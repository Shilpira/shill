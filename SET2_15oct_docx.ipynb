{
  "nbformat": 4,
  "nbformat_minor": 0,
  "metadata": {
    "colab": {
      "provenance": []
    },
    "kernelspec": {
      "name": "python3",
      "display_name": "Python 3"
    },
    "language_info": {
      "name": "python"
    }
  },
  "cells": [
    {
      "cell_type": "markdown",
      "source": [
        "QUESTION NO 1"
      ],
      "metadata": {
        "id": "fBeMo1c98-MS"
      }
    },
    {
      "cell_type": "code",
      "source": [
        "Probability that the service manager will not meet his demand will be 100-73.4 = 26.6"
      ],
      "metadata": {
        "id": "BKXXoinx8Woh"
      },
      "execution_count": null,
      "outputs": []
    },
    {
      "cell_type": "markdown",
      "source": [
        "QUESTION NO 2"
      ],
      "metadata": {
        "id": "PqTzUWCe85Gg"
      }
    },
    {
      "cell_type": "code",
      "source": [
        "(PART A)\n",
        "\n",
        "Probability that the employee will be greater than age of 44 = 100-84.1345 = 15.86%So the probability of number of employees between 38.44 years of age = pr(X<44)-0.5=84.1345-0.5 = 34.1345%.\n",
        "Therefore the statement that more employees at the processing center are older Than 44 Than beTween 38 and is TRUE\n",
        "\n",
        "(PART B)\n",
        "\n",
        "The number of employees with probability 0.912 of them being under age 30= 0.0912*400=36.48 (36).\n",
        "Therefore the statement B of the queston is also TRUE"
      ],
      "metadata": {
        "id": "GAs2Hs8Q8WrZ"
      },
      "execution_count": null,
      "outputs": []
    },
    {
      "cell_type": "markdown",
      "source": [
        "QUESTION NO 3"
      ],
      "metadata": {
        "id": "vlqa9Slj-ZKq"
      }
    },
    {
      "cell_type": "code",
      "source": [
        "As we know that if X ~ N(μ, σ 2 ) and Y ~ N(μ2, σ2 2 ) are two independent Random variables\n",
        "than X + Y ~ N(μ1 + μ2, σ1 2 + σ2 2 ) and X - Y ~ N(μ1 - μ2, σ1 2 + σ2 2 )\n",
        "Similarly if Z = ax +by,Where X and Y are as defined above i.e z is linear combinaton of X and Y\n",
        "then Z ~ N(aμ1 + bμ2 a² σ1² + b² σ2² )\n",
        "therefore in the question 2X1~ N(2µ,4 σ 2 ) and X1 +X2 ~ N(µ + µ, σ 2 + σ 2 ) ~ N(2µ , 2σ 2 )2X1 - (X1 +X2) = N(4µ ,6 σ 2 )\n"
      ],
      "metadata": {
        "id": "3eATf1Ct8WxI"
      },
      "execution_count": null,
      "outputs": []
    },
    {
      "cell_type": "markdown",
      "source": [
        "QUESTION NO 4"
      ],
      "metadata": {
        "id": "i1DhNmf4_VZx"
      }
    },
    {
      "cell_type": "code",
      "source": [
        "Z*σ + µ = XZ(-0.005)*20+100\n",
        " = (2.57)*20+100\n",
        " = 151.4Z(0.005)*20+100\n",
        " = (-2.57)*20+100 = 48.6\n",
        "ANS:- D. 48.5 ,151.5"
      ],
      "metadata": {
        "id": "CJgmq5Pe8W3W"
      },
      "execution_count": null,
      "outputs": []
    },
    {
      "cell_type": "markdown",
      "source": [
        "QUESTION NO 5"
      ],
      "metadata": {
        "id": "wDdjRsKX_4q0"
      }
    },
    {
      "cell_type": "code",
      "source": [
        "(PART A)\n",
        " Mean profit is RS 540 Million\n",
        " Std deviaton is RS 225 Million\n",
        " Range is RS State norms interval (0.95, 540, 225)\n",
        " Range is RS 99.0081034 , 980.991896\n",
        "\n",
        "(PART B)\n",
        "\n",
        "X= X=μ + Zσ;\n",
        "wherein from z table, 5 percentle = -1.645 → X = 540(-1.645)*225\n",
        "X = 169.875\n",
        "\n",
        "(PART C)\n",
        "\n",
        "Probability of division 1 making a loss p(X<0)\n",
        "Stats. norm. cdf (0, 5, 3)  0.0477903\n",
        "Probability of division 2 making a loss p(X<0)\n",
        "Stats. norm. cdf(0, 7, 4) 0 .040059"
      ],
      "metadata": {
        "id": "fcSkkLNU_Y5-"
      },
      "execution_count": null,
      "outputs": []
    },
    {
      "cell_type": "code",
      "source": [],
      "metadata": {
        "id": "0jm51cqH_Y83"
      },
      "execution_count": null,
      "outputs": []
    },
    {
      "cell_type": "code",
      "source": [],
      "metadata": {
        "id": "H8FgeKg2_Y_9"
      },
      "execution_count": null,
      "outputs": []
    },
    {
      "cell_type": "code",
      "source": [],
      "metadata": {
        "id": "J1_IGbLI_ZC0"
      },
      "execution_count": null,
      "outputs": []
    },
    {
      "cell_type": "code",
      "source": [],
      "metadata": {
        "id": "ag5_AGOE_ZFf"
      },
      "execution_count": null,
      "outputs": []
    },
    {
      "cell_type": "code",
      "source": [],
      "metadata": {
        "id": "kEejpQSY_ZIm"
      },
      "execution_count": null,
      "outputs": []
    },
    {
      "cell_type": "code",
      "source": [],
      "metadata": {
        "id": "yE_r-SWS_ZLa"
      },
      "execution_count": null,
      "outputs": []
    },
    {
      "cell_type": "code",
      "source": [],
      "metadata": {
        "id": "IlcJ9yEb8W6N"
      },
      "execution_count": null,
      "outputs": []
    },
    {
      "cell_type": "code",
      "source": [],
      "metadata": {
        "id": "wq77golj8W9I"
      },
      "execution_count": null,
      "outputs": []
    },
    {
      "cell_type": "code",
      "source": [],
      "metadata": {
        "id": "IsNl56DO8W_8"
      },
      "execution_count": null,
      "outputs": []
    },
    {
      "cell_type": "code",
      "source": [],
      "metadata": {
        "id": "AMQbQynh8XC3"
      },
      "execution_count": null,
      "outputs": []
    }
  ]
}