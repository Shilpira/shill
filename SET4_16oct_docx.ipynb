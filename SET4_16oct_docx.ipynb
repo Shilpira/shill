{
  "nbformat": 4,
  "nbformat_minor": 0,
  "metadata": {
    "colab": {
      "provenance": []
    },
    "kernelspec": {
      "name": "python3",
      "display_name": "Python 3"
    },
    "language_info": {
      "name": "python"
    }
  },
  "cells": [
    {
      "cell_type": "markdown",
      "source": [
        "QUESTION 1"
      ],
      "metadata": {
        "id": "yH04n-yRSGf1"
      }
    },
    {
      "cell_type": "code",
      "source": [
        "PART 1\n",
        "C\n",
        "PART 2\n",
        "B\n",
        "PART 3\n",
        "A,C,D\n",
        "PART 4\n",
        "A"
      ],
      "metadata": {
        "id": "KxvNMCu4IgG0"
      },
      "execution_count": null,
      "outputs": []
    },
    {
      "cell_type": "markdown",
      "source": [
        "QUESTION 2\n"
      ],
      "metadata": {
        "id": "AM-lSp9EStam"
      }
    },
    {
      "cell_type": "code",
      "source": [
        " (1). TRUE\n",
        "In this case at least 30 samples must be collected and weight everyday. According to central limit theorem the sampling distribution of sample mean approach normal distribution as sample size bigger than 30.\n",
        "(2). TRUE\n",
        "Standard error is equal to standard deviation divided by square root of sample size i.e case standard error =5/sqrt(25) =1\n"
      ],
      "metadata": {
        "id": "hJF8DkjDIgNS"
      },
      "execution_count": null,
      "outputs": []
    },
    {
      "cell_type": "markdown",
      "source": [
        "QUESTION 3"
      ],
      "metadata": {
        "id": "A1s80u1uTpuV"
      }
    },
    {
      "cell_type": "code",
      "source": [
        "ANSWER IS D\n",
        "SOLUTION:\n",
        "sample(n)=100,\n",
        "mean=$50,\n",
        "std. dev.=$40,\n",
        "R.E.=$45 to $55\n",
        "According to central limit theorem n>30 so distribuon is normal.\n",
        "Std error=40/sqrt(100)=4\n",
        "\n",
        "stats.norm.cdf(55,loc=50) = 0.894\n",
        "stats.norm.cdf(45,loc=50) = 0.105\n",
        "stats.norm.cdf(55,loc=50)-stats.norm.cdf(45,loc=50) = 0.7887\n",
        "\n",
        "The probability of not being investigation= p(45<x<55)=0.7887\n",
        "So probability of not being investigation in the given week= 1-0.7887 =0.2113 =21.13%"
      ],
      "metadata": {
        "id": "nE5J8ZreIc_l"
      },
      "execution_count": null,
      "outputs": []
    },
    {
      "cell_type": "markdown",
      "source": [
        "QUESTION 4"
      ],
      "metadata": {
        "id": "HgcWK4FgVYae"
      }
    },
    {
      "cell_type": "code",
      "source": [
        "ANSWER IS D\n",
        "SOLUTION: For 5% ,z has to be 1.96\n",
        "So, 1.96=(5)*sqrt(n)/40 Sqrt(n)=15.68 n= 245.86 or 246"
      ],
      "metadata": {
        "id": "4meKVUTAIdFb"
      },
      "execution_count": null,
      "outputs": []
    },
    {
      "cell_type": "markdown",
      "source": [
        "QUESTION 5"
      ],
      "metadata": {
        "id": "O--hgjiGWRAR"
      }
    },
    {
      "cell_type": "code",
      "source": [
        "(A). The standard deviation of scores will not be 120 in any sample since we dont know the sample size.\n",
        "(B). SD of mean across several sample will also not be 120. It will be less probably about 0.6SD=sd/sqrt(n)=120/sqrt(40000)=0.6\n",
        "(C). Mean score in any sample will be 120.May be, but no reason it could not be more or less.\n",
        "(D). TRUE, This could be certainly possible but requires the mean of all samples that sample size.\n",
        "(E). TRUE, standard deviaon of the mean across several sample will be 0.60 as calculated above."
      ],
      "metadata": {
        "id": "RijIyhvmIdLJ"
      },
      "execution_count": null,
      "outputs": []
    }
  ]
}