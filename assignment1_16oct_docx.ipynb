{
  "nbformat": 4,
  "nbformat_minor": 0,
  "metadata": {
    "colab": {
      "provenance": []
    },
    "kernelspec": {
      "name": "python3",
      "display_name": "Python 3"
    },
    "language_info": {
      "name": "python"
    }
  },
  "cells": [
    {
      "cell_type": "markdown",
      "source": [
        "QUESTION NO 7"
      ],
      "metadata": {
        "id": "CGDlBUIhY5Jh"
      }
    },
    {
      "cell_type": "code",
      "source": [
        "import pandas as pd"
      ],
      "metadata": {
        "id": "aqxU7oSmRvsF"
      },
      "execution_count": null,
      "outputs": []
    },
    {
      "cell_type": "code",
      "source": [
        "df = pd.read_csv(\"Q7.csv\")\n",
        "df.head()"
      ],
      "metadata": {
        "id": "V6wE_nbDrlik"
      },
      "execution_count": null,
      "outputs": []
    },
    {
      "cell_type": "code",
      "source": [
        "df.tail()"
      ],
      "metadata": {
        "id": "XLQ-9niLrllm"
      },
      "execution_count": null,
      "outputs": []
    },
    {
      "cell_type": "code",
      "source": [
        "df.info()\n"
      ],
      "metadata": {
        "id": "xgn_IxVdrloh"
      },
      "execution_count": null,
      "outputs": []
    },
    {
      "cell_type": "code",
      "source": [
        "df[\"Score\"]"
      ],
      "metadata": {
        "id": "kWo5pRuJrlr6"
      },
      "execution_count": null,
      "outputs": []
    },
    {
      "cell_type": "code",
      "source": [
        "df[\"Points\"].mean()"
      ],
      "metadata": {
        "id": "sLC-blkWrlvR"
      },
      "execution_count": null,
      "outputs": []
    },
    {
      "cell_type": "code",
      "source": [
        "df[\"Points\"].mode()"
      ],
      "metadata": {
        "id": "Eedje_cqrlyY"
      },
      "execution_count": null,
      "outputs": []
    },
    {
      "cell_type": "code",
      "source": [
        "df[\"Points\"].median()"
      ],
      "metadata": {
        "id": "AYZhq8aMrl1g"
      },
      "execution_count": null,
      "outputs": []
    },
    {
      "cell_type": "code",
      "source": [
        "df[\"Points\"].var()"
      ],
      "metadata": {
        "id": "egyf83u5rl4o"
      },
      "execution_count": null,
      "outputs": []
    },
    {
      "cell_type": "code",
      "source": [
        "df[\"Points\"].min()"
      ],
      "metadata": {
        "id": "NQCk5FTJrl7w"
      },
      "execution_count": null,
      "outputs": []
    },
    {
      "cell_type": "code",
      "source": [
        "df[\"Points\"].max()"
      ],
      "metadata": {
        "id": "RCpHm1fkrl-4"
      },
      "execution_count": null,
      "outputs": []
    },
    {
      "cell_type": "code",
      "source": [
        "df[\"Points\"].std()"
      ],
      "metadata": {
        "id": "8a5CvFKVrmBv"
      },
      "execution_count": null,
      "outputs": []
    },
    {
      "cell_type": "code",
      "source": [
        "df[\"Score\"].min()"
      ],
      "metadata": {
        "id": "V25IPPZ7rmE7"
      },
      "execution_count": null,
      "outputs": []
    },
    {
      "cell_type": "code",
      "source": [
        "df[\"Score\"].max()"
      ],
      "metadata": {
        "id": "HLazN5lHrmIT"
      },
      "execution_count": null,
      "outputs": []
    },
    {
      "cell_type": "code",
      "source": [
        "df[\"Score\"].mean()"
      ],
      "metadata": {
        "id": "XAPc6XkPrmLL"
      },
      "execution_count": null,
      "outputs": []
    },
    {
      "cell_type": "code",
      "source": [
        "df[\"Score\"].mode()"
      ],
      "metadata": {
        "id": "ZRpS0ctrrmOT"
      },
      "execution_count": null,
      "outputs": []
    },
    {
      "cell_type": "code",
      "source": [
        "df[\"Score\"].median()"
      ],
      "metadata": {
        "id": "Wn7AqQJWrmRX"
      },
      "execution_count": null,
      "outputs": []
    },
    {
      "cell_type": "code",
      "source": [
        "df[\"Score\"].var()"
      ],
      "metadata": {
        "id": "tDXTWa-qrmUf"
      },
      "execution_count": null,
      "outputs": []
    },
    {
      "cell_type": "code",
      "source": [
        "df[\"Score\"].std()"
      ],
      "metadata": {
        "colab": {
          "base_uri": "https://localhost:8080/",
          "height": 174
        },
        "id": "WcWAJiSprmXa",
        "outputId": "8df1aa91-bb5e-4177-ebbe-35995ace0138"
      },
      "execution_count": null,
      "outputs": [
        {
          "output_type": "error",
          "ename": "NameError",
          "evalue": "ignored",
          "traceback": [
            "\u001b[0;31m---------------------------------------------------------------------------\u001b[0m",
            "\u001b[0;31mNameError\u001b[0m                                 Traceback (most recent call last)",
            "\u001b[0;32m<ipython-input-8-a7b7cb8da061>\u001b[0m in \u001b[0;36m<cell line: 1>\u001b[0;34m()\u001b[0m\n\u001b[0;32m----> 1\u001b[0;31m \u001b[0mdf\u001b[0m\u001b[0;34m[\u001b[0m\u001b[0;34m\"Score\"\u001b[0m\u001b[0;34m]\u001b[0m\u001b[0;34m.\u001b[0m\u001b[0mstd\u001b[0m\u001b[0;34m(\u001b[0m\u001b[0;34m)\u001b[0m\u001b[0;34m\u001b[0m\u001b[0;34m\u001b[0m\u001b[0m\n\u001b[0m",
            "\u001b[0;31mNameError\u001b[0m: name 'df' is not defined"
          ]
        }
      ]
    },
    {
      "cell_type": "code",
      "source": [
        "df[\"Weigh\"].min()"
      ],
      "metadata": {
        "id": "4KjaKUKuwHXB"
      },
      "execution_count": null,
      "outputs": []
    },
    {
      "cell_type": "code",
      "source": [
        "df[\"Weigh\"].max()"
      ],
      "metadata": {
        "id": "nVh2CHtxwHZK"
      },
      "execution_count": null,
      "outputs": []
    },
    {
      "cell_type": "code",
      "source": [
        "df[\"Weigh\"].mean()"
      ],
      "metadata": {
        "id": "JKZmiMzuwHcD"
      },
      "execution_count": null,
      "outputs": []
    },
    {
      "cell_type": "code",
      "source": [
        "df[\"Weigh\"].median()"
      ],
      "metadata": {
        "id": "z3DJvwrmwHe5"
      },
      "execution_count": null,
      "outputs": []
    },
    {
      "cell_type": "code",
      "source": [
        "df[\"Weigh\"].mode()"
      ],
      "metadata": {
        "id": "lD3dR5kFwHhw"
      },
      "execution_count": null,
      "outputs": []
    },
    {
      "cell_type": "code",
      "source": [
        "df[\"Weigh\"].var()"
      ],
      "metadata": {
        "id": "e47yzRiGwHks"
      },
      "execution_count": null,
      "outputs": []
    },
    {
      "cell_type": "code",
      "source": [
        "df[\"Weigh\"].std()"
      ],
      "metadata": {
        "id": "1Gwg1IHGwHnj"
      },
      "execution_count": null,
      "outputs": []
    },
    {
      "cell_type": "markdown",
      "source": [
        "QUESTION NO 9"
      ],
      "metadata": {
        "id": "J3v00F_4X0_i"
      }
    },
    {
      "cell_type": "code",
      "source": [],
      "metadata": {
        "id": "dw0aAQc4a-A9"
      },
      "execution_count": null,
      "outputs": []
    },
    {
      "cell_type": "markdown",
      "source": [
        "question no 21 cars data MPG\n",
        "part (A)"
      ],
      "metadata": {
        "id": "aach0q7OyT3p"
      }
    },
    {
      "cell_type": "code",
      "source": [
        "import numpy as np\n",
        "import matplotlib.pyplot as plt\n",
        "import seaborn as sns\n",
        "from scipy import stats"
      ],
      "metadata": {
        "id": "JjipsYQJySye"
      },
      "execution_count": null,
      "outputs": []
    },
    {
      "cell_type": "code",
      "source": [
        "df1 = pd.read_csv(\"Cars.csv\")\n"
      ],
      "metadata": {
        "id": "LFk3FaV6yS1h"
      },
      "execution_count": null,
      "outputs": []
    },
    {
      "cell_type": "code",
      "source": [
        "df1.head()"
      ],
      "metadata": {
        "id": "kc91mQ31Fuqa"
      },
      "execution_count": null,
      "outputs": []
    },
    {
      "cell_type": "code",
      "source": [
        "df1.info()"
      ],
      "metadata": {
        "id": "iUONNDtmyS4d"
      },
      "execution_count": null,
      "outputs": []
    },
    {
      "cell_type": "code",
      "source": [
        "yes,it follows normal distribution because mean = median and skewness close to 0."
      ],
      "metadata": {
        "id": "HZktKwgAFg0W"
      },
      "execution_count": null,
      "outputs": []
    },
    {
      "cell_type": "code",
      "source": [
        "df1[\"MPG\"].mean()"
      ],
      "metadata": {
        "id": "YZXLDm1-yS7x"
      },
      "execution_count": null,
      "outputs": []
    },
    {
      "cell_type": "code",
      "source": [
        "df1[\"MPG\"].std()"
      ],
      "metadata": {
        "id": "LH1KQwUvGvcT"
      },
      "execution_count": null,
      "outputs": []
    },
    {
      "cell_type": "code",
      "source": [
        "#z score value of MPG\n",
        "#95%\n",
        "stats.norm.ppf(0.95)\n"
      ],
      "metadata": {
        "id": "whG_RYu4GBfQ"
      },
      "execution_count": null,
      "outputs": []
    },
    {
      "cell_type": "markdown",
      "source": [
        "question 21 part(B)"
      ],
      "metadata": {
        "id": "9xJ13SkpHfHl"
      }
    },
    {
      "cell_type": "code",
      "source": [
        "import pandas as pd\n",
        "\n",
        "df = pd.read_excel(\"WC_AT.xlsx\")"
      ],
      "metadata": {
        "id": "7sVqvm9sGBlW"
      },
      "execution_count": null,
      "outputs": []
    },
    {
      "cell_type": "code",
      "source": [
        "df.head()"
      ],
      "metadata": {
        "id": "bYeTgB3uIGV0"
      },
      "execution_count": null,
      "outputs": []
    },
    {
      "cell_type": "code",
      "source": [
        "waist and AT does not follow normal distribution"
      ],
      "metadata": {
        "id": "8tMg2TjtF0ux"
      },
      "execution_count": null,
      "outputs": []
    },
    {
      "cell_type": "code",
      "source": [
        "df[\"Waist\"].mean()"
      ],
      "metadata": {
        "id": "9enfTnITNkkc"
      },
      "execution_count": null,
      "outputs": []
    },
    {
      "cell_type": "code",
      "source": [
        "df[\"Waist\"].std()"
      ],
      "metadata": {
        "id": "_NyhOFU3NknU"
      },
      "execution_count": null,
      "outputs": []
    },
    {
      "cell_type": "code",
      "source": [
        "#z score of Waist (normal distribution)\n",
        "#95%\n",
        "stats.norm.ppf(0.95)"
      ],
      "metadata": {
        "id": "1oIwyImsNkqM"
      },
      "execution_count": null,
      "outputs": []
    },
    {
      "cell_type": "code",
      "source": [
        "df[\"AT\"].mean()"
      ],
      "metadata": {
        "id": "4hwVtI1XNktC"
      },
      "execution_count": null,
      "outputs": []
    },
    {
      "cell_type": "code",
      "source": [
        "df[\"AT\"].std()"
      ],
      "metadata": {
        "id": "8mEffjgbNkwK"
      },
      "execution_count": null,
      "outputs": []
    },
    {
      "cell_type": "code",
      "source": [
        "#z score of AT (normal distribution)\n",
        "#90%\n",
        "stats.norm.ppf(0.90)"
      ],
      "metadata": {
        "id": "rF4MDaXGOVIn"
      },
      "execution_count": null,
      "outputs": []
    },
    {
      "cell_type": "markdown",
      "source": [
        "QUESTION NO 20"
      ],
      "metadata": {
        "id": "plcl4pMlMQrY"
      }
    },
    {
      "cell_type": "code",
      "source": [
        "cars = pd.read_csv(\"Cars.csv\")\n",
        "cars.head()"
      ],
      "metadata": {
        "id": "Xzgu3O7ByTEr"
      },
      "execution_count": null,
      "outputs": []
    },
    {
      "cell_type": "code",
      "source": [
        "cars[\"MPG\"].mean()"
      ],
      "metadata": {
        "id": "s5FV9qc5yTIA"
      },
      "execution_count": null,
      "outputs": []
    },
    {
      "cell_type": "code",
      "source": [
        "cars[\"MPG\"].std()"
      ],
      "metadata": {
        "id": "Pa1bGBhsyTLI"
      },
      "execution_count": null,
      "outputs": []
    },
    {
      "cell_type": "code",
      "source": [
        "\n",
        "PART A\n",
        "P(MPG>38)\n",
        "SOL: 0.34\n",
        "RCODE=pnorm(38,mean(MPG),std(MPG))\n",
        "\n",
        "PART B\n",
        "P(MPG<40)\n",
        "SOL: 0.72\n",
        "RCODE=PNORM(40,mean(MPG),std(MPG))\n",
        "\n",
        "PART C\n",
        "p(20<MPG<50)\n",
        "SOL:0.89\n",
        "RCODE=pnorm(50,mean(MPG),std(MPG))-pnorm(20,mean(MPG),std(MPG))"
      ],
      "metadata": {
        "id": "aaYoxL0PDqXA"
      },
      "execution_count": null,
      "outputs": []
    },
    {
      "cell_type": "code",
      "source": [],
      "metadata": {
        "id": "wkytjxA9wHtT"
      },
      "execution_count": null,
      "outputs": []
    },
    {
      "cell_type": "code",
      "source": [],
      "metadata": {
        "id": "j4gg6gQpNVJm"
      },
      "execution_count": null,
      "outputs": []
    },
    {
      "cell_type": "code",
      "source": [],
      "metadata": {
        "id": "QrRsDhcuwHwJ"
      },
      "execution_count": null,
      "outputs": []
    },
    {
      "cell_type": "code",
      "source": [],
      "metadata": {
        "id": "x5IqDopJwHy9"
      },
      "execution_count": null,
      "outputs": []
    }
  ]
}