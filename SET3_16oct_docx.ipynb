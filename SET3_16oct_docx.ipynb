{
  "nbformat": 4,
  "nbformat_minor": 0,
  "metadata": {
    "colab": {
      "provenance": []
    },
    "kernelspec": {
      "name": "python3",
      "display_name": "Python 3"
    },
    "language_info": {
      "name": "python"
    }
  },
  "cells": [
    {
      "cell_type": "markdown",
      "source": [
        "QUESTION 1"
      ],
      "metadata": {
        "id": "w4A7jUAHYixU"
      }
    },
    {
      "cell_type": "code",
      "source": [
        "(PART 1)\n",
        "False. Sample data can be decided by the size of the population data, that can be or cannot be adequate.\n",
        "\n",
        "(PART 2)\n",
        "TRUE\n",
        "\n",
        "(PART 3)\n",
        "TRUE"
      ],
      "metadata": {
        "id": "zyxsMpwxYyIV"
      },
      "execution_count": null,
      "outputs": []
    },
    {
      "cell_type": "markdown",
      "source": [
        "QUESTION 2"
      ],
      "metadata": {
        "id": "l7LAb4ukYkk5"
      }
    },
    {
      "cell_type": "code",
      "source": [
        "A.The population\n",
        "Ans: All of the PC Magazine Readers.\n",
        "B.The parameter of interest\n",
        "Ans: population size, average, sample size and ratings scale (7.5 for Kodak Camera)\n",
        "C.The sampling frames\n",
        "Ans: each and every reader that responded by rating the products (around 9000)\n",
        "D.The sample sizes\n",
        "Ans: 225 readers\n",
        "E.The sampling designs\n",
        "Ans: Voluntary Response\n",
        "F.Any potential sources of bias or other problems with the survey or sample\n",
        "Ans: The key to random selection is that there is no bias involved in the selection of the sample,\n",
        "but surveys conducted by the magazines often suffer from nonresponse bias\n",
        "and also the source of this data is from readers that read PC magazine\n",
        "vs the whole population that do not read PC magazine yet they use these different brands of electronics."
      ],
      "metadata": {
        "id": "0Mutq2zEY0H9"
      },
      "execution_count": null,
      "outputs": []
    },
    {
      "cell_type": "markdown",
      "source": [
        "QUESTION 3"
      ],
      "metadata": {
        "id": "788Z6QNLYkoR"
      }
    },
    {
      "cell_type": "code",
      "source": [
        "(PART 1)\n",
        "TRUE\n",
        "\n",
        "(PART 2)\n",
        "False: The above information implies only for 30 to 45% of moviegoers at 95 % confidence further\n",
        "than this we do not have any knowledge.\n",
        "Therefore, we cannot be 100% sure for the above statement.\n",
        "\n",
        "(PART 3)\n",
        "False: The 95% confidence Interval for population mean can be applied to distribution that are not normal,\n",
        "but they are easy to understand in symmetric distributions.\n",
        "We can use the central limit theorem to make a normal approximation.\n",
        "The rule where about 95% of observations are within 2 standard deviations of the mean is only approximately true.\n",
        "However, it holds very well for the normal distribution.\n",
        "The mean of data tends to be normally distributed when the sample size is sufficiently large."
      ],
      "metadata": {
        "id": "SVPvezyFY1EE"
      },
      "execution_count": null,
      "outputs": []
    },
    {
      "cell_type": "markdown",
      "source": [
        "QUESTION 4"
      ],
      "metadata": {
        "id": "DOY34S5iYkrr"
      }
    },
    {
      "cell_type": "code",
      "source": [
        "ANSWER IS B\n",
        "This is only an assumption, because if we consider more than 50% for sample mean to be greater\n",
        "than the probability of getting a lower value gets overshadowed because sample mean has an equal chance to be lesser than  population mean."
      ],
      "metadata": {
        "id": "QOQyTTw5Y1x8"
      },
      "execution_count": null,
      "outputs": []
    },
    {
      "cell_type": "markdown",
      "source": [
        "QUESTION 5"
      ],
      "metadata": {
        "id": "YcuRV6RgYkvE"
      }
    },
    {
      "cell_type": "code",
      "source": [
        "(PART 1)\n",
        "\n",
        "NO\n",
        "As the p Value > alpha for 95% confidence we failed to reject null hypothesis Ho: > 5% null hypothesis\n",
        "\n",
        "(PART 2)\n",
        "YES"
      ],
      "metadata": {
        "id": "lNPY600kY2bW"
      },
      "execution_count": null,
      "outputs": []
    },
    {
      "cell_type": "markdown",
      "source": [
        "QUESTION 6"
      ],
      "metadata": {
        "id": "3B_AFQPGYkyL"
      }
    },
    {
      "cell_type": "code",
      "source": [
        "(PART 1)\n",
        "Incorrect 95% of the time the size of the shipment will be around 250 +/- 45 books.\n",
        "\n",
        "(PART 2)\n",
        "CORRECT\n",
        "\n",
        "(PART 3)\n",
        "CORRECT\n",
        "\n",
        "(PART 4)\n",
        "CORRECT\n",
        "\n",
        "(PART 5)\n",
        "Incorrect: as we increase the range +/- 1 sigma the % of confidence increases for a\n",
        "normal distribution it will be 97.5% that the mean will lie in  between 160 to 340 (-3 sigma to +3 sigma)"
      ],
      "metadata": {
        "id": "Gf66Vb8MY3KO"
      },
      "execution_count": null,
      "outputs": []
    },
    {
      "cell_type": "markdown",
      "source": [
        "QUESTION 7"
      ],
      "metadata": {
        "id": "GCZbPK4uYk1S"
      }
    },
    {
      "cell_type": "code",
      "source": [
        "ANSWER IS A:\n",
        "For 95% confident Z-interval is shorter (1.960),\n",
        "as for t-interval (1.962) it increases as degree of freedom decreases"
      ],
      "metadata": {
        "id": "0GPvy97gY41R"
      },
      "execution_count": null,
      "outputs": []
    },
    {
      "cell_type": "markdown",
      "source": [
        "QUESTION 8"
      ],
      "metadata": {
        "id": "Uj6WrRg0Yk4a"
      }
    },
    {
      "cell_type": "code",
      "source": [
        "ANSWER IS B: Margin of Error = Z * under root (p hat *q hat/ n)\n",
        "n = sample size,\n",
        "Z is score depends on the confidence level,\n",
        "p hat is the predictable value and q hat is the value to  be predicted value lets assume p hat and q hat as 0.5\n",
        "and margin of error is given 0.04n = (z)^2 * p hat * q hat / ME^2 n = (1.65) ^2 * (0.5) (0.5) / (0.04) ^2 n = 425 sample size"
      ],
      "metadata": {
        "id": "u7rNBSG0Y5cD"
      },
      "execution_count": null,
      "outputs": []
    },
    {
      "cell_type": "markdown",
      "source": [
        "QUESTION 9"
      ],
      "metadata": {
        "id": "Ja0_GEDAYk7i"
      }
    },
    {
      "cell_type": "code",
      "source": [
        "ANSWER IS C:\n",
        "Lets assume p hat and q hat as 0.5 and\n",
        "margin of error is given 0.04n = (z)^2 * p hat * q hat / ME ^2 n = (2.32) ^2 * (0.5) (0.5) / (0.04) ^2 = 841 samples size"
      ],
      "metadata": {
        "id": "xI1yVESaYgw4"
      },
      "execution_count": null,
      "outputs": []
    }
  ]
}